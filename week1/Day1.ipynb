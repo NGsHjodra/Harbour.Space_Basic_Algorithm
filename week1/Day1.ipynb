{
 "cells": [
  {
   "cell_type": "code",
   "execution_count": 7,
   "id": "4bb06b7c-d5fc-44b2-a2b1-736c3db29e93",
   "metadata": {},
   "outputs": [
    {
     "name": "stdout",
     "output_type": "stream",
     "text": [
      "1\n"
     ]
    }
   ],
   "source": [
    "ex_list = [1,3,5,7,8,9,10]\n",
    "\n",
    "def binary_search(myarr:list, x:int):\n",
    "    left = 0\n",
    "    right = len(myarr) -1\n",
    "    while left <= right:\n",
    "        mid = (left+right) // 2\n",
    "        if myarr[mid] == x:\n",
    "            return mid\n",
    "        if myarr[mid] > x:\n",
    "            right = mid - 1\n",
    "        if myarr[mid] < x:\n",
    "            left = mid + 1\n",
    "    return -1\n",
    "\n",
    "print(binary_search(ex_list, 3))"
   ]
  },
  {
   "cell_type": "code",
   "execution_count": 10,
   "id": "66983903-9df4-4ed5-95c8-0e3a29752c16",
   "metadata": {},
   "outputs": [
    {
     "data": {
      "text/plain": [
       "-1"
      ]
     },
     "execution_count": 10,
     "metadata": {},
     "output_type": "execute_result"
    }
   ],
   "source": [
    "def cubic_root(x:int):\n",
    "    left = 0\n",
    "    right = x\n",
    "    while left <= right:\n",
    "        mid = (left+right) // 2\n",
    "        if mid ** 3 == x:\n",
    "            return mid\n",
    "        if mid ** 3 > x:\n",
    "            right = mid - 1\n",
    "        if mid ** 3 < x:\n",
    "            left = mid + 1\n",
    "    return -1\n",
    "\n",
    "cubic_root(7)"
   ]
  },
  {
   "cell_type": "code",
   "execution_count": null,
   "id": "9e2bff45-73a9-495a-913e-0c5b627cbf51",
   "metadata": {},
   "outputs": [],
   "source": [
    "def cubic_root_real(x:float):\n",
    "    left = 0.0\n",
    "    right = x\n",
    "    mid = 0\n",
    "    while right - left > (10 ** -10):\n",
    "        mid = (left+right) / 2\n",
    "        print(mid)\n",
    "        if mid ** 3 <= x:\n",
    "            left = mid\n",
    "        if mid ** 3 > x:\n",
    "            right = mid\n",
    "    return mid\n",
    "\n",
    "cubic_root_real(125)"
   ]
  },
  {
   "cell_type": "markdown",
   "id": "9f0185d8-fd4e-4c1d-8a06-6128afca4c2d",
   "metadata": {
    "tags": []
   },
   "source": [
    "# Given a sorted array, find out how many times x occurs in A."
   ]
  },
  {
   "cell_type": "code",
   "execution_count": 45,
   "id": "28c81553-67a7-466e-bc8d-562e5fb97273",
   "metadata": {},
   "outputs": [
    {
     "name": "stdout",
     "output_type": "stream",
     "text": [
      "4\n",
      "3\n",
      "1\n"
     ]
    }
   ],
   "source": [
    "ex_list = [1,3,5,7,7,7,7,8,8,8,9,10]\n",
    "\n",
    "def binary_search_count(myarr:list, x:int):\n",
    "    left = 0\n",
    "    right = len(myarr) - 1\n",
    "    while left < right:\n",
    "        mid = (left+right) // 2\n",
    "        # print(f\"left is {left} right is {right} mid is {mid} value is {myarr[mid]}\")\n",
    "        if myarr[mid] >= x:\n",
    "            right = mid\n",
    "        if myarr[mid] < x:\n",
    "            left = mid + 1\n",
    "    first_pos = left\n",
    "    \n",
    "    left = 0\n",
    "    right = len(myarr) - 1\n",
    "    while left < right:\n",
    "        mid = (left+right) // 2\n",
    "        # print(f\"left is {left} right is {right} mid is {mid} value is {myarr[mid]}\")\n",
    "        if myarr[mid] > x:\n",
    "            right = mid\n",
    "        if myarr[mid] <= x:\n",
    "            left = mid + 1\n",
    "    \n",
    "    return left - first_pos\n",
    "\n",
    "# binary_search_count(ex_list, 7)\n",
    "print(binary_search_count(ex_list, 7))\n",
    "print(binary_search_count(ex_list, 8))\n",
    "print(binary_search_count(ex_list, 9))"
   ]
  },
  {
   "cell_type": "markdown",
   "id": "e5c39036-ed91-4966-98b4-829c17397151",
   "metadata": {},
   "source": [
    "# Given a real number x, find out its cubic root."
   ]
  },
  {
   "cell_type": "code",
   "execution_count": 46,
   "id": "2206e6d1-e75d-4b56-a4b5-b0c3ba59cf90",
   "metadata": {},
   "outputs": [
    {
     "name": "stdout",
     "output_type": "stream",
     "text": [
      "62.5\n",
      "31.25\n",
      "15.625\n",
      "7.8125\n",
      "3.90625\n",
      "5.859375\n",
      "4.8828125\n",
      "5.37109375\n",
      "5.126953125\n",
      "5.0048828125\n",
      "4.94384765625\n",
      "4.974365234375\n",
      "4.9896240234375\n",
      "4.99725341796875\n",
      "5.001068115234375\n",
      "4.9991607666015625\n",
      "5.000114440917969\n",
      "4.999637603759766\n",
      "4.999876022338867\n",
      "4.999995231628418\n",
      "5.000054836273193\n",
      "5.000025033950806\n",
      "5.000010132789612\n",
      "5.000002682209015\n",
      "4.999998956918716\n",
      "5.000000819563866\n",
      "4.999999888241291\n",
      "5.000000353902578\n",
      "5.000000121071935\n",
      "5.000000004656613\n",
      "4.999999946448952\n",
      "4.999999975552782\n",
      "4.999999990104698\n",
      "4.999999997380655\n",
      "5.000000001018634\n",
      "4.999999999199645\n",
      "5.000000000109139\n",
      "4.999999999654392\n",
      "4.999999999881766\n",
      "4.9999999999954525\n",
      "5.000000000052296\n"
     ]
    },
    {
     "data": {
      "text/plain": [
       "5.000000000052296"
      ]
     },
     "execution_count": 46,
     "metadata": {},
     "output_type": "execute_result"
    }
   ],
   "source": [
    "def cubic_root_real(x:float):\n",
    "    left = 0.0\n",
    "    right = x\n",
    "    mid = 0\n",
    "    while right - left > (10 ** -10):\n",
    "        mid = (left+right) / 2\n",
    "        print(mid)\n",
    "        if mid ** 3 <= x:\n",
    "            left = mid\n",
    "        if mid ** 3 > x:\n",
    "            right = mid\n",
    "    return mid\n",
    "\n",
    "cubic_root_real(125.00)"
   ]
  },
  {
   "cell_type": "markdown",
   "id": "72e46be5-968b-4655-ab57-4fbcc74c3f9d",
   "metadata": {},
   "source": [
    "# Given a sorted array with distinct numbers, find out i such that A[i] == i."
   ]
  },
  {
   "cell_type": "code",
   "execution_count": 51,
   "id": "d5f0bf24-0f59-4314-aa39-64aa0d742ee8",
   "metadata": {},
   "outputs": [
    {
     "name": "stdout",
     "output_type": "stream",
     "text": [
      "left is 0 right is 4 mid is 2 value is 3\n",
      "left is 3 right is 4 mid is 3 value is 3\n"
     ]
    },
    {
     "data": {
      "text/plain": [
       "3"
      ]
     },
     "execution_count": 51,
     "metadata": {},
     "output_type": "execute_result"
    }
   ],
   "source": [
    "ex_list = [1,3,3,3,3]\n",
    "\n",
    "def binary_search_distinct(myarr:list):\n",
    "    left = 0\n",
    "    right = len(myarr) - 1\n",
    "    while left <= right:\n",
    "        mid = (left+right) // 2\n",
    "        print(f\"left is {left} right is {right} mid is {mid} value is {myarr[mid]}\")\n",
    "        if myarr[mid] < mid:\n",
    "            right = mid -1\n",
    "        if myarr[mid] == mid:\n",
    "            return mid\n",
    "        if myarr[mid] > mid:\n",
    "            left = mid + 1\n",
    "    return -1\n",
    "\n",
    "binary_search_distinct(ex_list)"
   ]
  },
  {
   "cell_type": "markdown",
   "id": "ef981293-b7ca-46b7-95b8-a5d1f3492bf0",
   "metadata": {},
   "source": [
    "# Given an array of distinct numbers A such that A[0] > A[1] and A[n-1] > A[n-2] find out a local minimum (find out an i such that A[i-1] > A[i] < A[i + 1])."
   ]
  },
  {
   "cell_type": "code",
   "execution_count": null,
   "id": "2f44af8e-0177-4234-b16d-84439eba82d7",
   "metadata": {},
   "outputs": [],
   "source": [
    "ex_list = [4,3,6,1,9,3]\n",
    "\n",
    "def find_loc_min(mylist:list):\n",
    "    max_ind = len(mylist) - 1\n",
    "    for i in range(1,max_ind-1):\n",
    "        if mylist[i-1] > mylist[i] and mylist[i] < mylist[i+1]:\n",
    "            return i\n",
    "    return -1\n",
    "\n",
    "find_loc_min(ex_list)"
   ]
  },
  {
   "cell_type": "markdown",
   "id": "b321aac8-c704-4942-8b20-34ff729a74a9",
   "metadata": {
    "tags": []
   },
   "source": [
    "# Artifact"
   ]
  },
  {
   "cell_type": "code",
   "execution_count": 34,
   "id": "10ba7503-0e9a-4d0c-a9c9-c332c143dd2b",
   "metadata": {},
   "outputs": [
    {
     "name": "stdout",
     "output_type": "stream",
     "text": [
      "3\n",
      "7\n",
      "5\n",
      "7\n",
      "10\n",
      "4\n",
      "10\n",
      "11\n",
      "2\n"
     ]
    }
   ],
   "source": [
    "ex_list = [1,3,5,7,7,7,7,8,8,8,9,10]\n",
    "\n",
    "def binary_search_count(myarr:list, x:int):\n",
    "    left = 0\n",
    "    right = len(myarr) -1\n",
    "    while left < right:\n",
    "        mid = (left+right) // 2\n",
    "        if myarr[mid] >= x:\n",
    "            right = mid\n",
    "        if myarr[mid] < x:\n",
    "            left = mid + 1\n",
    "            \n",
    "    if myarr[left] != x:\n",
    "        return -1\n",
    "    \n",
    "    print(left)\n",
    "    first_po = left\n",
    "    \n",
    "    left = 0\n",
    "    right = len(myarr) -1\n",
    "    while left < right:\n",
    "        mid = (left+right) // 2\n",
    "        if myarr[mid] > x:\n",
    "            right = mid\n",
    "        if myarr[mid] <= x:\n",
    "            left = mid + 1\n",
    "    \n",
    "    print(left)\n",
    "    return left - first_po + 1\n",
    "\n",
    "print(binary_search_count(ex_list, 7))\n",
    "print(binary_search_count(ex_list, 8))\n",
    "print(binary_search_count(ex_list, 9))"
   ]
  }
 ],
 "metadata": {
  "kernelspec": {
   "display_name": "Python 3 (ipykernel)",
   "language": "python",
   "name": "python3"
  },
  "language_info": {
   "codemirror_mode": {
    "name": "ipython",
    "version": 3
   },
   "file_extension": ".py",
   "mimetype": "text/x-python",
   "name": "python",
   "nbconvert_exporter": "python",
   "pygments_lexer": "ipython3",
   "version": "3.10.4"
  }
 },
 "nbformat": 4,
 "nbformat_minor": 5
}
